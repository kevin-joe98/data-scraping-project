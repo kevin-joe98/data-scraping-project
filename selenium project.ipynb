{
 "cells": [
  {
   "cell_type": "code",
   "execution_count": 1,
   "id": "3382fe64-2d4e-4ffb-9ebe-51c0c18fa97d",
   "metadata": {},
   "outputs": [],
   "source": [
    "import selenium\n",
    "\n",
    "from selenium import webdriver\n",
    "\n",
    "import time\n",
    "\n",
    "from selenium.webdriver.common.by import By\n",
    "\n",
    "import pprint\n",
    "\n",
    "from selenium.webdriver.common.keys import Keys\n",
    "\n",
    "import pandas as pd\n",
    "\n",
    "from progressbar import ProgressBar\n",
    "\n",
    "pbar = ProgressBar()\n",
    "\n",
    "import re"
   ]
  },
  {
   "cell_type": "code",
   "execution_count": null,
   "id": "db1c9424-c5b5-410c-a049-0cb824d31b73",
   "metadata": {},
   "outputs": [
    {
     "name": "stdout",
     "output_type": "stream",
     "text": [
      "0    https://www.bookdepot.com/Store/Browse?page=1&...\n",
      "1    https://www.bookdepot.com/Store/Browse?page=5&...\n",
      "Name: urls, dtype: object\n"
     ]
    },
    {
     "name": "stderr",
     "output_type": "stream",
     "text": [
      " 50% |####################################                                     |\r"
     ]
    }
   ],
   "source": [
    "import csv\n",
    "\n",
    "# with open('Bookdepot.csv', 'r') as file:\n",
    "#     reader = csv.reader(file)\n",
    "#     for row in reader:\n",
    "        \n",
    "#         url = row[0] \n",
    "df = pd.read_csv('sampleforscraping.csv')\n",
    "df = df[:2]\n",
    "urls = df['urls']\n",
    "print(urls)\n",
    "book_titles=[]\n",
    "isbn_ = []\n",
    "cost = []\n",
    "urlss = []\n",
    "driver = webdriver.Chrome()\n",
    "for url in pbar(urls):\n",
    "        \n",
    "        \n",
    "        driver.get(url)\n",
    "    #     driver.maximize_window()\n",
    "        title=driver.find_elements(by=By.XPATH,value='//div[contains(@class,\"caption\")]/h2/a')\n",
    "        isbn =driver.find_elements(by=By.XPATH,value='//span[contains(text(),\"ISBN\")]')\n",
    "\n",
    "\n",
    "        costs = driver.find_elements(by=By.XPATH,value='//div[contains(@class,\"dropdown pull-left\")]/div/strong')\n",
    "        urls_1 = driver.find_elements(by=By.XPATH,value='//div[contains(@class,\"caption\")]/h2/a')\n",
    "   \n",
    "        for i in title:\n",
    "\n",
    "            book_titles.append(i.text)\n",
    "        for isb in isbn:\n",
    "            rrrr=isb.text\n",
    "            results = re.findall(r'\\d+', rrrr)\n",
    "            isbn_.append(results)\n",
    "        for co in costs:\n",
    "            cost.append(co.text)\n",
    "        for link in urls_1:\n",
    "            rrr=link.get_attribute(\"href\")\n",
    "            urlss.append(rrr)"
   ]
  },
  {
   "cell_type": "code",
   "execution_count": null,
   "id": "c942828d-4f30-4345-a462-4a4a518c49eb",
   "metadata": {},
   "outputs": [],
   "source": [
    "books_df = pd.DataFrame({'Title':book_titles, 'ISBN':isbn_, 'Cost':cost, \"Urls\":urlss})"
   ]
  },
  {
   "cell_type": "code",
   "execution_count": null,
   "id": "cf8ccdd9-647a-47a6-bc34-56501e8fa838",
   "metadata": {},
   "outputs": [],
   "source": [
    "books_df = books_df.astype(str)"
   ]
  },
  {
   "cell_type": "code",
   "execution_count": null,
   "id": "a58fe860-3de8-4000-b385-5971e23b786e",
   "metadata": {},
   "outputs": [],
   "source": [
    "books_df['ISBN'] = books_df['ISBN'].str.replace(r'[^a-zA-Z0-9\\s]', '', regex=True)"
   ]
  },
  {
   "cell_type": "code",
   "execution_count": null,
   "id": "63d93d16-33ae-4392-a74a-88b85d0fa3af",
   "metadata": {},
   "outputs": [],
   "source": [
    "books_df.to_excel('booksdepot_sample_full_4.xlsx', index=False)"
   ]
  },
  {
   "cell_type": "code",
   "execution_count": 16,
   "id": "48630777-8d0d-4e06-85b8-6c9c05807e60",
   "metadata": {},
   "outputs": [
    {
     "name": "stdout",
     "output_type": "stream",
     "text": [
      "Collecting openpyxl\n",
      "  Using cached openpyxl-3.1.2-py2.py3-none-any.whl (249 kB)\n",
      "Collecting et-xmlfile (from openpyxl)\n",
      "  Using cached et_xmlfile-1.1.0-py3-none-any.whl (4.7 kB)\n",
      "Installing collected packages: et-xmlfile, openpyxl\n",
      "Successfully installed et-xmlfile-1.1.0 openpyxl-3.1.2\n",
      "\n",
      "\u001b[1m[\u001b[0m\u001b[34;49mnotice\u001b[0m\u001b[1;39;49m]\u001b[0m\u001b[39;49m A new release of pip is available: \u001b[0m\u001b[31;49m23.1.1\u001b[0m\u001b[39;49m -> \u001b[0m\u001b[32;49m23.2.1\u001b[0m\n",
      "\u001b[1m[\u001b[0m\u001b[34;49mnotice\u001b[0m\u001b[1;39;49m]\u001b[0m\u001b[39;49m To update, run: \u001b[0m\u001b[32;49mpip install --upgrade pip\u001b[0m\n",
      "Note: you may need to restart the kernel to use updated packages.\n"
     ]
    }
   ],
   "source": [
    "pip install openpyxl"
   ]
  },
  {
   "cell_type": "code",
   "execution_count": 17,
   "id": "1243470d-0934-4fa9-b849-07035a24e6ef",
   "metadata": {},
   "outputs": [
    {
     "name": "stdout",
     "output_type": "stream",
     "text": [
      "Requirement already satisfied: pip in /Library/Frameworks/Python.framework/Versions/3.11/lib/python3.11/site-packages (23.1.1)\n",
      "Collecting pip\n",
      "  Downloading pip-23.2.1-py3-none-any.whl (2.1 MB)\n",
      "\u001b[2K     \u001b[90m━━━━━━━━━━━━━━━━━━━━━━━━━━━━━━━━━━━━━━━━\u001b[0m \u001b[32m2.1/2.1 MB\u001b[0m \u001b[31m431.4 kB/s\u001b[0m eta \u001b[36m0:00:00\u001b[0m00:01\u001b[0m00:01\u001b[0m\n",
      "\u001b[?25hInstalling collected packages: pip\n",
      "  Attempting uninstall: pip\n",
      "    Found existing installation: pip 23.1.1\n",
      "    Uninstalling pip-23.1.1:\n",
      "      Successfully uninstalled pip-23.1.1\n",
      "Successfully installed pip-23.2.1\n",
      "Note: you may need to restart the kernel to use updated packages.\n"
     ]
    }
   ],
   "source": [
    "pip install --upgrade pip"
   ]
  },
  {
   "cell_type": "code",
   "execution_count": null,
   "id": "42728629-8f9a-478e-a29e-917dda337a2f",
   "metadata": {},
   "outputs": [],
   "source": []
  }
 ],
 "metadata": {
  "kernelspec": {
   "display_name": "Python 3 (ipykernel)",
   "language": "python",
   "name": "python3"
  },
  "language_info": {
   "codemirror_mode": {
    "name": "ipython",
    "version": 3
   },
   "file_extension": ".py",
   "mimetype": "text/x-python",
   "name": "python",
   "nbconvert_exporter": "python",
   "pygments_lexer": "ipython3",
   "version": "3.11.2"
  }
 },
 "nbformat": 4,
 "nbformat_minor": 5
}
